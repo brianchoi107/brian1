{
  "nbformat": 4,
  "nbformat_minor": 0,
  "metadata": {
    "colab": {
      "provenance": [],
      "collapsed_sections": [],
      "toc_visible": true,
      "authorship_tag": "ABX9TyOGXkMg7d8aGFsobMFzc3Qb",
      "include_colab_link": true
    },
    "kernelspec": {
      "name": "python3",
      "display_name": "Python 3"
    },
    "language_info": {
      "name": "python"
    }
  },
  "cells": [
    {
      "cell_type": "markdown",
      "metadata": {
        "id": "view-in-github",
        "colab_type": "text"
      },
      "source": [
        "<a href=\"https://colab.research.google.com/github/brianchoi107/brian1/blob/main/Exer0.ipynb\" target=\"_parent\"><img src=\"https://colab.research.google.com/assets/colab-badge.svg\" alt=\"Open In Colab\"/></a>"
      ]
    },
    {
      "cell_type": "code",
      "execution_count": null,
      "metadata": {
        "id": "l2TcxTOYWThO",
        "colab": {
          "base_uri": "https://localhost:8080/"
        },
        "outputId": "52f988d0-b2a7-455e-f219-49c044510b3e"
      },
      "outputs": [
        {
          "output_type": "stream",
          "name": "stdout",
          "text": [
            "1번 학생은 합격입니다.\n",
            "2번 학생은 불합격입니다.\n",
            "3번 학생은 합격입니다.\n",
            "4번 학생은 불합격입니다.\n",
            "5번 학생은 합격입니다.\n"
          ]
        }
      ],
      "source": [
        "marks = [90, 25, 67, 45, 80]\n",
        "number = 0 \n",
        "for mark in marks: \n",
        "  number=number+1\n",
        "  if mark >= 60: \n",
        "    print(\"%d번 학생은 합격입니다.\" % number)\n",
        "  else:\n",
        "    print(\"%d번 학생은 불합격입니다.\" % number)"
      ]
    },
    {
      "cell_type": "code",
      "source": [
        "marks = [90, 25, 67, 45, 80]\n",
        "number = 0 \n",
        "for mark in marks: \n",
        "  number=number+1\n",
        "  if mark < 60:\n",
        "    continue\n",
        "  print(\"%d번 학생 축하합니다. 합격입니다. \" % number)"
      ],
      "metadata": {
        "colab": {
          "base_uri": "https://localhost:8080/"
        },
        "id": "TdEZrFW9_WJC",
        "outputId": "415b6412-c90e-4310-99e3-ad706b918c7d"
      },
      "execution_count": null,
      "outputs": [
        {
          "output_type": "stream",
          "name": "stdout",
          "text": [
            "1번 학생 축하합니다. 합격입니다. \n",
            "3번 학생 축하합니다. 합격입니다. \n",
            "5번 학생 축하합니다. 합격입니다. \n"
          ]
        }
      ]
    },
    {
      "cell_type": "code",
      "source": [
        "add=0\n",
        "for i in range(1, 11):\n",
        "  add=add+i\n",
        "\n",
        "print(add)"
      ],
      "metadata": {
        "id": "vuYQjY_7_2Q5",
        "colab": {
          "base_uri": "https://localhost:8080/"
        },
        "outputId": "c862bad6-5ddf-4a4e-a723-fd347bfb4a29"
      },
      "execution_count": 5,
      "outputs": [
        {
          "output_type": "stream",
          "name": "stdout",
          "text": [
            "55\n"
          ]
        }
      ]
    },
    {
      "cell_type": "code",
      "source": [
        "marks = [90, 25, 67, 45, 80]\n",
        "for number in range(len(marks)):\n",
        "  if marks[number] < 60: \n",
        "    continue\n",
        "  print(\"%d번 학생 축하합니다. 합격입니다.\" % (number+1))"
      ],
      "metadata": {
        "colab": {
          "base_uri": "https://localhost:8080/"
        },
        "id": "Z1pgnsVSDDnQ",
        "outputId": "51414d28-aafb-4c12-aab0-7bca417d7c92"
      },
      "execution_count": 6,
      "outputs": [
        {
          "output_type": "stream",
          "name": "stdout",
          "text": [
            "1번 학생 축하합니다. 합격입니다.\n",
            "3번 학생 축하합니다. 합격입니다.\n",
            "5번 학생 축하합니다. 합격입니다.\n"
          ]
        }
      ]
    },
    {
      "cell_type": "code",
      "source": [
        "for i in range(2,10):  \n",
        "  for j in range(1, 10): \n",
        "    print(i*j, end=\"\")\n",
        "  print('')"
      ],
      "metadata": {
        "colab": {
          "base_uri": "https://localhost:8080/"
        },
        "id": "1SXDZhUOD71B",
        "outputId": "a95280ba-a429-4f5e-ae06-f0b0caf30d25"
      },
      "execution_count": 7,
      "outputs": [
        {
          "output_type": "stream",
          "name": "stdout",
          "text": [
            "24681012141618\n",
            "369121518212427\n",
            "4812162024283236\n",
            "51015202530354045\n",
            "61218243036424854\n",
            "71421283542495663\n",
            "81624324048566472\n",
            "91827364554637281\n"
          ]
        }
      ]
    }
  ]
}