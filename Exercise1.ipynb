{
  "nbformat": 4,
  "nbformat_minor": 0,
  "metadata": {
    "colab": {
      "provenance": [],
      "authorship_tag": "ABX9TyMsuuHs7Vs++InmcTmPalTV",
      "include_colab_link": true
    },
    "kernelspec": {
      "name": "python3",
      "display_name": "Python 3"
    },
    "language_info": {
      "name": "python"
    }
  },
  "cells": [
    {
      "cell_type": "markdown",
      "metadata": {
        "id": "view-in-github",
        "colab_type": "text"
      },
      "source": [
        "<a href=\"https://colab.research.google.com/github/brianchoi107/brian1/blob/main/Exercise1.ipynb\" target=\"_parent\"><img src=\"https://colab.research.google.com/assets/colab-badge.svg\" alt=\"Open In Colab\"/></a>"
      ]
    },
    {
      "cell_type": "code",
      "source": [
        "test_list = ['one', 'two', 'three'] \n",
        "for i in test_list:\n",
        "  print(i)"
      ],
      "metadata": {
        "colab": {
          "base_uri": "https://localhost:8080/"
        },
        "id": "C8QG881NS-aI",
        "outputId": "9302ff53-f512-4141-a11c-67468a5e9411"
      },
      "execution_count": 12,
      "outputs": [
        {
          "output_type": "stream",
          "name": "stdout",
          "text": [
            "one\n",
            "two\n",
            "three\n"
          ]
        }
      ]
    },
    {
      "cell_type": "code",
      "execution_count": 13,
      "metadata": {
        "colab": {
          "base_uri": "https://localhost:8080/"
        },
        "id": "ErIu8GEkOtUo",
        "outputId": "5ec71ed2-fb33-481e-f322-ad4340231136"
      },
      "outputs": [
        {
          "output_type": "stream",
          "name": "stdout",
          "text": [
            "give me 1 apple\n",
            "give me 2 apple\n",
            "give me 3 apple\n",
            "give me 4 apple\n"
          ]
        }
      ],
      "source": [
        "for i in range(1,5):\n",
        "  print(\"give me %s apple\" %i)"
      ]
    },
    {
      "cell_type": "markdown",
      "source": [],
      "metadata": {
        "id": "poZlonkUXH_H"
      }
    },
    {
      "cell_type": "code",
      "source": [
        " a = [(1,2), (3,4), (5,6)]\n",
        " for (first, last) in a:\n",
        "   print(first+last) "
      ],
      "metadata": {
        "colab": {
          "base_uri": "https://localhost:8080/"
        },
        "id": "y76cdyR4XIsP",
        "outputId": "6736f8a3-d650-406c-f03f-c61b704bb3fe"
      },
      "execution_count": 14,
      "outputs": [
        {
          "output_type": "stream",
          "name": "stdout",
          "text": [
            "3\n",
            "7\n",
            "11\n"
          ]
        }
      ]
    },
    {
      "cell_type": "code",
      "source": [
        "marks = [90, 25, 67, 45, 80]\n",
        "number = 0 \n",
        "for mark in marks:\n",
        "  number = number +1 \n",
        "  if mark >= 60: \n",
        "    print(\"%d번 학생은 합격입니다.\" % number)\n",
        "  else:\n",
        "    print(\"%d번 학생은 불합격입니다.\" % number)"
      ],
      "metadata": {
        "colab": {
          "base_uri": "https://localhost:8080/"
        },
        "id": "oRpaSe3UXmeu",
        "outputId": "b51bb0ac-e0c9-4438-c6fa-1c68de69ef34"
      },
      "execution_count": 15,
      "outputs": [
        {
          "output_type": "stream",
          "name": "stdout",
          "text": [
            "1번 학생은 합격입니다.\n",
            "2번 학생은 불합격입니다.\n",
            "3번 학생은 합격입니다.\n",
            "4번 학생은 불합격입니다.\n",
            "5번 학생은 합격입니다.\n"
          ]
        }
      ]
    }
  ]
}